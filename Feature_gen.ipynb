{
 "cells": [
  {
   "cell_type": "code",
   "execution_count": 1,
   "metadata": {},
   "outputs": [],
   "source": [
    "from util import *\n",
    "import gc"
   ]
  },
  {
   "cell_type": "code",
   "execution_count": 2,
   "metadata": {},
   "outputs": [],
   "source": [
    "train_data = pd.read_csv(\"train.csv\")\n",
    "test_data = pd.read_csv(\"new_test.csv\")\n",
    "all_data = pd.concat([train_data, test_data], ignore_index = True)"
   ]
  },
  {
   "cell_type": "code",
   "execution_count": 3,
   "metadata": {},
   "outputs": [],
   "source": [
    "date_info = pd.read_csv(\"date_info.csv\")\n",
    "days = pd.Series([31,31,28,31,30,31,30,31,31,30,31,30,31])"
   ]
  },
  {
   "cell_type": "code",
   "execution_count": 4,
   "metadata": {},
   "outputs": [],
   "source": [
    "date_info['visit_date2'] = pd.to_datetime(date_info['calendar_date'])\n",
    "date_info['quarter'] = date_info['visit_date2'].dt.quarter\n",
    "date_info.drop(\"visit_date2\", axis = \"columns\", inplace = True)"
   ]
  },
  {
   "cell_type": "code",
   "execution_count": 5,
   "metadata": {},
   "outputs": [],
   "source": [
    "date_info[\"week_end\"] = 0\n",
    "date_info.loc[date_info[\"day_of_week\"]  == \"Sunday\", \"holiday_flg\"] = 1\n",
    "date_info.loc[date_info[\"day_of_week\"]  == \"Friday\", \"week_end\"] = 1\n",
    "date_info.loc[date_info[\"day_of_week\"]  == \"Saturday\",\"week_end\"] = 1\n",
    "date_info.columns  = [\"date\",\"week_day\",\"holiday\",\"quarter\",\"week_end\"]"
   ]
  },
  {
   "cell_type": "code",
   "execution_count": 6,
   "metadata": {},
   "outputs": [],
   "source": [
    "#load and combine date features\n",
    "date_info[\"date\"]  =  date_info[\"date\"].apply(get_gen_date)\n",
    "date_info[\"week\"]  =  date_info[\"date\"].apply(get_week)\n",
    "\n",
    "date_info[\"month\"] =  date_info[\"date\"].apply(lambda x : x.split(\"/\")[0]).astype(np.int8)\n",
    "date_info[\"year\"]  =  date_info[\"date\"].apply(lambda x : x.split(\"/\")[2]).astype(np.int16)\n",
    "date_info[\"day\"]   =  date_info[\"date\"].apply(lambda x : x.split(\"/\")[1]).astype(np.int8)\n",
    "\n",
    "date_info[\"days\"]  =  date_info[\"month\"].map(days).astype(np.int8)\n",
    "\n",
    "agg = gb_util(date_info,[\"year\",\"month\"],\"holiday\",\"month_holiday_agg\")\n",
    "date_info = date_info.merge(agg,on=[\"year\",\"month\"],how=\"left\")\n",
    "\n",
    "agg = gb_util(date_info,[\"year\",\"month\",\"week\"],\"holiday\",\"month_week_holiday_agg\")\n",
    "date_info = date_info.merge(agg,on=[\"year\",\"month\",\"week\"],how=\"left\")"
   ]
  },
  {
   "cell_type": "code",
   "execution_count": 7,
   "metadata": {},
   "outputs": [],
   "source": [
    "date_info[\"month_num\"] = 0\n",
    "num = 1\n",
    "for i in range(1, 13):\n",
    "    date_info.loc[(date_info.month == i) & (date_info.year == 2016), \"month_num\"] = num\n",
    "    num += 1\n",
    "    \n",
    "for i in range(1, 6):\n",
    "    date_info.loc[(date_info.month == i) & (date_info.year == 2017), \"month_num\"] = num\n",
    "    num += 1"
   ]
  },
  {
   "cell_type": "code",
   "execution_count": 8,
   "metadata": {},
   "outputs": [],
   "source": [
    "num = 1\n",
    "for i in range(1, date_info.month_num.max()+1):\n",
    "    for j in range(1, date_info[date_info.month_num == i].week.max() + 1):\n",
    "        date_info.loc[(date_info.month_num == i) & (date_info.week == j), \"week_num\"] = num\n",
    "        num += 1 \n",
    "    "
   ]
  },
  {
   "cell_type": "code",
   "execution_count": 9,
   "metadata": {},
   "outputs": [],
   "source": [
    "week_map = {\"Sunday\":0,\"Monday\":1,\"Tuesday\":2,\"Wednesday\":3,\"Thursday\":4,\"Friday\":5,\"Saturday\":6}\n",
    "date_info[\"week_day\"] = date_info[\"week_day\"].map(week_map)\n",
    "date_info[\"week_day\"] = date_info[\"week_day\"].apply(int)"
   ]
  },
  {
   "cell_type": "code",
   "execution_count": 10,
   "metadata": {},
   "outputs": [],
   "source": [
    "all_data[\"date\"] = all_data[\"visit_date\"]\n",
    "all_data.drop(\"visit_date\",axis = \"columns\",inplace = True)\n",
    "all_data = all_data.merge(date_info,how=\"left\",on=[\"date\"])"
   ]
  },
  {
   "cell_type": "code",
   "execution_count": 11,
   "metadata": {},
   "outputs": [],
   "source": [
    "Q1 = all_data[\"visitors\"].quantile(0.01)\n",
    "Q3 = all_data[\"visitors\"].quantile(0.99)\n",
    "IQR = Q3 - Q1\n",
    "all_data.loc[all_data[\"visitors\"] > (Q3 + 3 * IQR), \"visitors\"] = Q3 + 3 * IQR\n",
    "\n",
    "df_temp = all_data.groupby([\"chw_store_id\"], as_index = False).agg({\"visitors\":\"mean\"})\n",
    "df_temp.columns = [\"chw_store_id\", \"vis\"]\n",
    "all_data = all_data.merge(df_temp, on = \"chw_store_id\", how = \"left\")\n",
    "all_data.loc[all_data[\"visitors\"] == 0, \"visitors\"] = all_data.loc[all_data[\"visitors\"] == 0, \"vis\"]\n",
    "all_data.drop(\"vis\", inplace = True, axis = \"columns\")"
   ]
  },
  {
   "cell_type": "code",
   "execution_count": 12,
   "metadata": {},
   "outputs": [],
   "source": [
    "all_data[\"min_date\"] = pd.to_datetime(all_data[\"date\"])\n",
    "df_temp = all_data[[\"chw_store_id\", \"min_date\", \"visitors\"]].copy()\n",
    "df_temp.sort_values(by = \"min_date\", inplace = True)"
   ]
  },
  {
   "cell_type": "code",
   "execution_count": 13,
   "metadata": {},
   "outputs": [
    {
     "name": "stdout",
     "output_type": "stream",
     "text": [
      "calculating median\n",
      "calculating mean\n"
     ]
    }
   ],
   "source": [
    "df_temp.drop(\"min_date\", inplace = True, axis = \"columns\")\n",
    "all_data.drop(\"min_date\", inplace = True, axis = \"columns\")\n",
    "\n",
    "print(\"calculating median\")\n",
    "median_df = df_temp.groupby([\"chw_store_id\"],sort = False).expanding().median().reset_index()\n",
    "print(\"calculating mean\")\n",
    "mean_df = df_temp.groupby([\"chw_store_id\"], sort = False).expanding().mean().reset_index()\n",
    "\n",
    "medians = np.zeros((all_data.shape[0]))\n",
    "means = np.zeros((all_data.shape[0]))\n",
    "medians[median_df[\"level_1\"].values] = median_df[\"visitors\"].values\n",
    "means[mean_df[\"level_1\"].values] = mean_df[\"visitors\"].values\n",
    "all_data[\"median\"] = medians\n",
    "all_data[\"mean\"] = means"
   ]
  },
  {
   "cell_type": "code",
   "execution_count": 14,
   "metadata": {},
   "outputs": [],
   "source": [
    "#########chwiggy store info#######\n",
    "ch_store_info = pd.read_csv(\"chw_store_info.csv\")\n",
    "all_data = all_data.merge(ch_store_info,on=[\"chw_store_id\"],how = \"left\")"
   ]
  },
  {
   "cell_type": "code",
   "execution_count": 15,
   "metadata": {},
   "outputs": [],
   "source": [
    "values = ch_store_info.chw_genre_name.value_counts().index"
   ]
  },
  {
   "cell_type": "code",
   "execution_count": 16,
   "metadata": {},
   "outputs": [],
   "source": [
    "all_data[\"province\"] = all_data[\"chw_area_name\"].apply(lambda x : x.split(\" \")[0])\n",
    "all_data[\"city\"]     = all_data[\"chw_area_name\"].apply(lambda x : x.split(\" \")[1])\n",
    "all_data[\"locality\"] = all_data[\"chw_area_name\"].apply(lambda x : x.split(\" \")[2])"
   ]
  },
  {
   "cell_type": "code",
   "execution_count": 17,
   "metadata": {},
   "outputs": [],
   "source": [
    "#ONE HOT Encoding!\n",
    "local_series = pd.get_dummies(all_data[\"locality\"])\n",
    "city_series = pd.get_dummies(all_data[\"city\"])\n",
    "province_series = pd.get_dummies(all_data[\"province\"])"
   ]
  },
  {
   "cell_type": "code",
   "execution_count": 18,
   "metadata": {},
   "outputs": [],
   "source": [
    "genre_series = pd.get_dummies(all_data[\"chw_genre_name\"])"
   ]
  },
  {
   "cell_type": "code",
   "execution_count": 19,
   "metadata": {},
   "outputs": [],
   "source": [
    "#label_encoding_features\n",
    "encode(all_data, \"province\")\n",
    "encode(all_data, \"city\")\n",
    "encode(all_data, \"locality\")\n",
    "encode(all_data, \"chw_genre_name\")"
   ]
  },
  {
   "cell_type": "code",
   "execution_count": 20,
   "metadata": {},
   "outputs": [],
   "source": [
    "del_cols = [\"chw_area_name\"]\n",
    "all_data.drop(del_cols, axis = \"columns\", inplace = True)"
   ]
  },
  {
   "cell_type": "code",
   "execution_count": 21,
   "metadata": {},
   "outputs": [],
   "source": [
    "#########chwiggy reserve info#######\n",
    "reserve_data = pd.read_csv(\"chw_reserve.csv\")\n",
    "reserve_data.drop_duplicates()\n",
    "\n",
    "reserve_data[\"visit_time\"] = reserve_data[\"visit_datetime\"].apply(lambda x : x.split()[1])\n",
    "reserve_data[\"visit_date\"] = reserve_data[\"visit_datetime\"].apply(lambda x : x.split()[0])\n",
    "\n",
    "reserve_data[\"reserve_time\"] = reserve_data[\"reserve_datetime\"].apply(lambda x : x.split()[1])\n",
    "reserve_data[\"reserve_date\"] = reserve_data[\"reserve_datetime\"].apply(lambda x : x.split()[0])"
   ]
  },
  {
   "cell_type": "code",
   "execution_count": 22,
   "metadata": {},
   "outputs": [],
   "source": [
    "reserve_data[\"reserve_time\"] = reserve_data[\"reserve_time\"].apply(map_time)\n",
    "reserve_data[\"visit_time\"] = reserve_data[\"visit_time\"].apply(map_time)"
   ]
  },
  {
   "cell_type": "code",
   "execution_count": 23,
   "metadata": {},
   "outputs": [],
   "source": [
    "del_cols = [\"visit_datetime\",\"reserve_datetime\"]\n",
    "reserve_data.drop(del_cols, axis = \"columns\", inplace = True)"
   ]
  },
  {
   "cell_type": "code",
   "execution_count": 24,
   "metadata": {},
   "outputs": [],
   "source": [
    "reserve_visits_agg = gb_util(reserve_data,[\"chw_store_id\", \"visit_date\"],\"reserve_visitors\",\"reserve_visits\")\n",
    "reserve_visits_agg.columns = [\"chw_store_id\", \"date\", \"reserve_visitors\"]\n",
    "reservations_agg = gb_util(reserve_data,[\"chw_store_id\", \"reserve_date\"],\"reserve_visitors\",\"reservations\")\n",
    "reservations_agg.columns = [\"chw_store_id\", \"date\", \"reservations\"]"
   ]
  },
  {
   "cell_type": "code",
   "execution_count": 25,
   "metadata": {},
   "outputs": [],
   "source": [
    "all_data = all_data.merge(reservations_agg, on = [\"chw_store_id\", \"date\"], how = \"left\")\n",
    "all_data = all_data.merge(reserve_visits_agg, on = [\"chw_store_id\", \"date\"], how = \"left\")"
   ]
  },
  {
   "cell_type": "code",
   "execution_count": 26,
   "metadata": {},
   "outputs": [
    {
     "data": {
      "text/html": [
       "<div>\n",
       "<style scoped>\n",
       "    .dataframe tbody tr th:only-of-type {\n",
       "        vertical-align: middle;\n",
       "    }\n",
       "\n",
       "    .dataframe tbody tr th {\n",
       "        vertical-align: top;\n",
       "    }\n",
       "\n",
       "    .dataframe thead th {\n",
       "        text-align: right;\n",
       "    }\n",
       "</style>\n",
       "<table border=\"1\" class=\"dataframe\">\n",
       "  <thead>\n",
       "    <tr style=\"text-align: right;\">\n",
       "      <th></th>\n",
       "      <th>yom_store_id</th>\n",
       "      <th>visit_datetime</th>\n",
       "      <th>reserve_datetime</th>\n",
       "      <th>reserve_visitors</th>\n",
       "    </tr>\n",
       "  </thead>\n",
       "  <tbody>\n",
       "    <tr>\n",
       "      <th>0</th>\n",
       "      <td>hpg_c63f6f42e088e50f</td>\n",
       "      <td>1/1/2016 11:00</td>\n",
       "      <td>1/1/2016 9:00</td>\n",
       "      <td>1</td>\n",
       "    </tr>\n",
       "    <tr>\n",
       "      <th>1</th>\n",
       "      <td>hpg_dac72789163a3f47</td>\n",
       "      <td>1/1/2016 13:00</td>\n",
       "      <td>1/1/2016 6:00</td>\n",
       "      <td>3</td>\n",
       "    </tr>\n",
       "    <tr>\n",
       "      <th>2</th>\n",
       "      <td>hpg_c8e24dcf51ca1eb5</td>\n",
       "      <td>1/1/2016 16:00</td>\n",
       "      <td>1/1/2016 14:00</td>\n",
       "      <td>2</td>\n",
       "    </tr>\n",
       "    <tr>\n",
       "      <th>3</th>\n",
       "      <td>hpg_24bb207e5fd49d4a</td>\n",
       "      <td>1/1/2016 17:00</td>\n",
       "      <td>1/1/2016 11:00</td>\n",
       "      <td>5</td>\n",
       "    </tr>\n",
       "    <tr>\n",
       "      <th>4</th>\n",
       "      <td>hpg_25291c542ebb3bc2</td>\n",
       "      <td>1/1/2016 17:00</td>\n",
       "      <td>1/1/2016 3:00</td>\n",
       "      <td>13</td>\n",
       "    </tr>\n",
       "    <tr>\n",
       "      <th>...</th>\n",
       "      <td>...</td>\n",
       "      <td>...</td>\n",
       "      <td>...</td>\n",
       "      <td>...</td>\n",
       "    </tr>\n",
       "    <tr>\n",
       "      <th>1048570</th>\n",
       "      <td>hpg_c20d81d9cb17891b</td>\n",
       "      <td>11/30/2016 12:00</td>\n",
       "      <td>11/27/2016 15:00</td>\n",
       "      <td>2</td>\n",
       "    </tr>\n",
       "    <tr>\n",
       "      <th>1048571</th>\n",
       "      <td>hpg_c89a6b67db37d5f8</td>\n",
       "      <td>11/30/2016 12:00</td>\n",
       "      <td>11/28/2016 18:00</td>\n",
       "      <td>10</td>\n",
       "    </tr>\n",
       "    <tr>\n",
       "      <th>1048572</th>\n",
       "      <td>hpg_ccdd56aafb8ebc9a</td>\n",
       "      <td>11/30/2016 12:00</td>\n",
       "      <td>11/26/2016 13:00</td>\n",
       "      <td>3</td>\n",
       "    </tr>\n",
       "    <tr>\n",
       "      <th>1048573</th>\n",
       "      <td>hpg_cd658dcb7253e28a</td>\n",
       "      <td>11/30/2016 12:00</td>\n",
       "      <td>11/29/2016 16:00</td>\n",
       "      <td>2</td>\n",
       "    </tr>\n",
       "    <tr>\n",
       "      <th>1048574</th>\n",
       "      <td>hpg_ce0100ab064f9aa7</td>\n",
       "      <td>11/30/2016 12:00</td>\n",
       "      <td>11/25/2016 18:00</td>\n",
       "      <td>4</td>\n",
       "    </tr>\n",
       "  </tbody>\n",
       "</table>\n",
       "<p>1041604 rows × 4 columns</p>\n",
       "</div>"
      ],
      "text/plain": [
       "                 yom_store_id    visit_datetime  reserve_datetime  \\\n",
       "0        hpg_c63f6f42e088e50f    1/1/2016 11:00     1/1/2016 9:00   \n",
       "1        hpg_dac72789163a3f47    1/1/2016 13:00     1/1/2016 6:00   \n",
       "2        hpg_c8e24dcf51ca1eb5    1/1/2016 16:00    1/1/2016 14:00   \n",
       "3        hpg_24bb207e5fd49d4a    1/1/2016 17:00    1/1/2016 11:00   \n",
       "4        hpg_25291c542ebb3bc2    1/1/2016 17:00     1/1/2016 3:00   \n",
       "...                       ...               ...               ...   \n",
       "1048570  hpg_c20d81d9cb17891b  11/30/2016 12:00  11/27/2016 15:00   \n",
       "1048571  hpg_c89a6b67db37d5f8  11/30/2016 12:00  11/28/2016 18:00   \n",
       "1048572  hpg_ccdd56aafb8ebc9a  11/30/2016 12:00  11/26/2016 13:00   \n",
       "1048573  hpg_cd658dcb7253e28a  11/30/2016 12:00  11/29/2016 16:00   \n",
       "1048574  hpg_ce0100ab064f9aa7  11/30/2016 12:00  11/25/2016 18:00   \n",
       "\n",
       "         reserve_visitors  \n",
       "0                       1  \n",
       "1                       3  \n",
       "2                       2  \n",
       "3                       5  \n",
       "4                      13  \n",
       "...                   ...  \n",
       "1048570                 2  \n",
       "1048571                10  \n",
       "1048572                 3  \n",
       "1048573                 2  \n",
       "1048574                 4  \n",
       "\n",
       "[1041604 rows x 4 columns]"
      ]
     },
     "execution_count": 26,
     "metadata": {},
     "output_type": "execute_result"
    }
   ],
   "source": [
    "yom_data = pd.read_csv(\"yom_reserve.csv\")\n",
    "yom_data.drop_duplicates()"
   ]
  },
  {
   "cell_type": "code",
   "execution_count": 27,
   "metadata": {},
   "outputs": [],
   "source": [
    "yom_data[\"visit_time\"] = yom_data[\"visit_datetime\"].apply(lambda x : x.split()[1])\n",
    "yom_data[\"visit_date\"] = yom_data[\"visit_datetime\"].apply(lambda x : x.split()[0])\n",
    "\n",
    "yom_data[\"reserve_time\"] = yom_data[\"reserve_datetime\"].apply(lambda x : x.split()[1])\n",
    "yom_data[\"reserve_date\"] = yom_data[\"reserve_datetime\"].apply(lambda x : x.split()[0])"
   ]
  },
  {
   "cell_type": "code",
   "execution_count": 28,
   "metadata": {},
   "outputs": [],
   "source": [
    "yom_data[\"reserve_time\"] = yom_data[\"reserve_time\"].apply(map_time)\n",
    "yom_data[\"visit_time\"]   = yom_data[\"visit_time\"].apply(map_time)"
   ]
  },
  {
   "cell_type": "code",
   "execution_count": 29,
   "metadata": {},
   "outputs": [],
   "source": [
    "yom_visits_agg = gb_util(yom_data,[\"yom_store_id\", \"visit_date\"],\"reserve_visitors\",\"reserve_visits\")\n",
    "yom_visits_agg.columns = [\"yom_store_id\", \"date\", \"reserve_visitors_yom\"]\n",
    "\n",
    "yom_agg = gb_util(yom_data,[\"yom_store_id\", \"reserve_date\"],\"reserve_visitors\",\"reservations\")\n",
    "yom_agg.columns = [\"yom_store_id\", \"date\", \"reservations_yom\"]"
   ]
  },
  {
   "cell_type": "code",
   "execution_count": 30,
   "metadata": {},
   "outputs": [],
   "source": [
    "relations = pd.read_csv(\"store_id_relation.csv\")\n",
    "all_data = all_data.merge(relations, on = [\"chw_store_id\"], how = \"left\")\n"
   ]
  },
  {
   "cell_type": "code",
   "execution_count": 31,
   "metadata": {},
   "outputs": [],
   "source": [
    "all_data = all_data.merge(yom_agg, on = [\"yom_store_id\", \"date\"], how = \"left\")\n",
    "all_data = all_data.merge(yom_visits_agg, on = [\"yom_store_id\", \"date\"], how = \"left\")"
   ]
  },
  {
   "cell_type": "code",
   "execution_count": 32,
   "metadata": {},
   "outputs": [],
   "source": [
    "fill_cols = [\"reservations\", \"reserve_visitors\", \"reservations_yom\", \"reserve_visitors_yom\"]\n",
    "for col in fill_cols:\n",
    "    all_data[col].fillna(0, inplace = True)\n",
    "all_data[\"reservations\"] = all_data[\"reservations\"] + all_data[\"reservations_yom\"]\n",
    "all_data[\"reserve_visitors\"] = all_data[\"reserve_visitors\"] + all_data[\"reserve_visitors_yom\"]\n",
    "del_cols = [\"reservations_yom\",\"reserve_visitors_yom\",\"yom_store_id\"]\n",
    "all_data.drop(del_cols, inplace = True, axis = \"columns\")"
   ]
  },
  {
   "cell_type": "code",
   "execution_count": 33,
   "metadata": {},
   "outputs": [],
   "source": [
    "def create_lags_with_gb(lag,index_cols,df, null_value = 0):\n",
    "    global all_data\n",
    "    df_temp = df.copy()\n",
    "    df_temp[\"date\"] = pd.to_datetime(df_temp['date']) + pd.to_timedelta(lag,unit='d')\n",
    "    df_temp[\"date\"] = pd.to_datetime(df_temp['date']).dt.strftime(\"%m/%d/%y\")\n",
    "    columns = []\n",
    "    if lag != 0:\n",
    "        for col in df_temp.columns.values:\n",
    "            if col in index_cols:\n",
    "                columns.append(col)\n",
    "            else:\n",
    "                columns.append(col + \"_lag_\" + str(lag))\n",
    "        df_temp.columns = columns\n",
    "    \n",
    "    all_data = all_data.merge(df_temp,how=\"left\",on=index_cols)\n",
    "    del df_temp\n",
    "    gc.collect()\n",
    "    for col in [col for col in columns if not col in index_cols]:\n",
    "        all_data[col].fillna(null_value, inplace = True)\n",
    "        all_data[col] = all_data[col].astype(np.float32)\n",
    "        gc.collect()"
   ]
  },
  {
   "cell_type": "code",
   "execution_count": 34,
   "metadata": {},
   "outputs": [],
   "source": [
    "all_data[\"date\"] = pd.to_datetime(all_data['date']).dt.strftime(\"%m/%d/%y\")"
   ]
  },
  {
   "cell_type": "code",
   "execution_count": 35,
   "metadata": {},
   "outputs": [],
   "source": [
    "def create_custom_lags(index_cols, col, name, op):\n",
    "    global all_data\n",
    "    agg = gb_util(all_data, index_cols.copy(), \"visitors\",name,op)\n",
    "    \n",
    "    agg[col] += 1\n",
    "    cols = index_cols + [name + \"_\"+\"lag\"+\"_\"+str(1)]\n",
    "    agg.columns = cols\n",
    "    all_data = all_data.merge(agg,on=index_cols, how=\"left\")\n",
    "    all_data[name + \"_\"+\"lag\"+\"_\"+str(1)].fillna(-1, inplace = True)\n",
    "    \n",
    "    agg[col] -= 2\n",
    "    cols = index_cols + [name + \"_\"+\"lag\"+\"_\"+str(-1)]\n",
    "    agg.columns = cols\n",
    "    all_data = all_data.merge(agg,on=index_cols, how=\"left\")\n",
    "    all_data[name + \"_\"+\"lag\"+\"_\"+str(-1)].fillna(-1, inplace = True)"
   ]
  },
  {
   "cell_type": "code",
   "execution_count": 36,
   "metadata": {},
   "outputs": [],
   "source": [
    "lags = list(range(31, 60))\n",
    "all_data[\"visitors_mean_past_30_2\"] = get_lag_mean(all_data,[\"visitors\"],lags,[\"chw_store_id\",\"date\"])\n",
    "all_data[\"visitors_median_past_30_2\"] = get_lag_median(all_data,[\"visitors\"],lags,[\"chw_store_id\",\"date\"])\n",
    "\n",
    "lags = list(range(15, 29))\n",
    "all_data[\"visitors_mean_past_14_2\"] = get_lag_mean(all_data,[\"visitors\"],lags,[\"chw_store_id\",\"date\"])\n",
    "all_data[\"visitors_median_past_14_2\"] = get_lag_median(all_data,[\"visitors\"],lags,[\"chw_store_id\",\"date\"])\n",
    "\n",
    "lags = list(range(31, 45))\n",
    "all_data[\"visitors_mean_mid_14_2\"] = get_lag_mean(all_data,[\"visitors\"],lags,[\"chw_store_id\",\"date\"])\n",
    "all_data[\"visitors_median_mid_14_2\"] = get_lag_median(all_data,[\"visitors\"],lags,[\"chw_store_id\",\"date\"])\n",
    "\n",
    "lags = list(range(-60, -30))\n",
    "all_data[\"visitors_mean_future_30\"] = get_lag_mean(all_data,[\"visitors\"],lags,[\"chw_store_id\",\"date\"])\n",
    "all_data[\"visitors_median_future_30\"] = get_lag_median(all_data,[\"visitors\"],lags,[\"chw_store_id\",\"date\"])\n",
    "\n",
    "lags = list(range(-29, -15))\n",
    "all_data[\"visitors_mean_fu_14\"] = get_lag_mean(all_data,[\"visitors\"],lags,[\"chw_store_id\",\"date\"])\n",
    "all_data[\"visitors_median_fu_14\"] = get_lag_median(all_data,[\"visitors\"],lags,[\"chw_store_id\",\"date\"])"
   ]
  },
  {
   "cell_type": "code",
   "execution_count": 37,
   "metadata": {},
   "outputs": [],
   "source": [
    "lags = list(range(1, 30))\n",
    "all_data[\"visitors_mean_past_30\"] = get_lag_mean(all_data,[\"visitors\"],lags,[\"chw_store_id\",\"date\"])\n",
    "all_data[\"visitors_median_past_30\"] = get_lag_median(all_data,[\"visitors\"],lags,[\"chw_store_id\",\"date\"])\n",
    "\n",
    "lags = list(range(1, 14))\n",
    "all_data[\"visitors_mean_past_14\"] = get_lag_mean(all_data,[\"visitors\"],lags,[\"chw_store_id\",\"date\"])\n",
    "all_data[\"visitors_median_past_14\"] = get_lag_median(all_data,[\"visitors\"],lags,[\"chw_store_id\",\"date\"])\n",
    "\n",
    "lags = list(range(14, 30))\n",
    "all_data[\"visitors_mean_mid_14\"] = get_lag_mean(all_data,[\"visitors\"],lags,[\"chw_store_id\",\"date\"])\n",
    "all_data[\"visitors_median_mid_14\"] = get_lag_median(all_data,[\"visitors\"],lags,[\"chw_store_id\",\"date\"])\n",
    "\n",
    "lags = list(range(-30, 0))\n",
    "all_data[\"visitors_mean_future_30\"] = get_lag_mean(all_data,[\"visitors\"],lags,[\"chw_store_id\",\"date\"])\n",
    "all_data[\"visitors_median_future_30\"] = get_lag_median(all_data,[\"visitors\"],lags,[\"chw_store_id\",\"date\"])\n",
    "\n",
    "lags = list(range(-14, 0))\n",
    "all_data[\"visitors_mean_fu_14\"] = get_lag_mean(all_data,[\"visitors\"],lags,[\"chw_store_id\",\"date\"])\n",
    "all_data[\"visitors_median_fu_14\"] = get_lag_median(all_data,[\"visitors\"],lags,[\"chw_store_id\",\"date\"])\n",
    "\n",
    "lags = list(range(-30, -13))\n",
    "all_data[\"visitors_mean_fu_mid_14\"] = get_lag_mean(all_data,[\"visitors\"],lags,[\"chw_store_id\",\"date\"])\n",
    "all_data[\"visitors_median_fu_mid_14\"] = get_lag_median(all_data,[\"visitors\"],lags,[\"chw_store_id\",\"date\"])"
   ]
  },
  {
   "cell_type": "code",
   "execution_count": 38,
   "metadata": {},
   "outputs": [],
   "source": [
    "for lag in range(1,30):\n",
    "    all_data = create_lags(all_data,[\"visitors\"],lag,[\"chw_store_id\",\"date\"])\n",
    "for lag in [-1,-2,-3,-4,-5,-6-7,-14,-15,-16,-18,-20,-21,-28]:\n",
    "    all_data = create_lags(all_data,[\"visitors\"],lag,[\"chw_store_id\",\"date\"])\n",
    "for lag in range(1,8):\n",
    "    all_data = create_lags(all_data,[\"reservations\"],lag,[\"chw_store_id\",\"date\"])\n",
    "for lag in range(1,8):\n",
    "    all_data = create_lags(all_data,[\"reserve_visitors\"],lag,[\"chw_store_id\",\"date\"])    \n",
    "for lag in [2,3,4,5,7,14,21,28]:\n",
    "    all_data = create_lags(all_data,[\"median\"],lag,[\"chw_store_id\",\"date\"])\n",
    "for lag in [2,3,4,5,7,14,21,28]:\n",
    "    all_data = create_lags(all_data,[\"mean\"],lag,[\"chw_store_id\",\"date\"])\n",
    "for lag in [-2,-5,-7,-4,-3,-21,-28]:\n",
    "    all_data = create_lags(all_data,[\"median\"],lag,[\"chw_store_id\",\"date\"])\n",
    "for lag in [-2,-5,-7,-4,-3,-21,-28]:\n",
    "    all_data = create_lags(all_data,[\"mean\"],lag,[\"chw_store_id\",\"date\"])"
   ]
  },
  {
   "cell_type": "code",
   "execution_count": 39,
   "metadata": {},
   "outputs": [
    {
     "name": "stdout",
     "output_type": "stream",
     "text": [
      "lagging local_visitors\n",
      "lagging local_genere_visitors\n",
      "lagging genere_visitors\n",
      "lagging city_visitors\n",
      "lagging city_genere_visitors\n",
      "lagging province_genere_visitors\n"
     ]
    }
   ],
   "source": [
    "agg = gb_util(all_data,[\"date\",\"locality\"],\"visitors\",\"local_visitors\")\n",
    "print(\"lagging local_visitors\")\n",
    "for lag in range(0,8):\n",
    "    create_lags_with_gb(lag,[\"date\",\"locality\"], agg)\n",
    "    \n",
    "    \n",
    "agg = gb_util(all_data,[\"date\",\"locality\",\"chw_genre_name\"],\"visitors\",\"local_genere_visitors\")\n",
    "print(\"lagging local_genere_visitors\")\n",
    "for lag in range(0,8):\n",
    "    create_lags_with_gb(lag,[\"date\",\"locality\",\"chw_genre_name\"], agg)\n",
    "    \n",
    "    \n",
    "agg = gb_util(all_data,[\"date\",\"chw_genre_name\"],\"visitors\",\"genere_visitors\")\n",
    "print(\"lagging genere_visitors\")\n",
    "for lag in range(0,8):\n",
    "    create_lags_with_gb(lag,[\"date\",\"chw_genre_name\"], agg)\n",
    "    \n",
    "\n",
    "agg = gb_util(all_data,[\"date\",\"city\"],\"visitors\",\"city_visitors\")\n",
    "print(\"lagging city_visitors\")\n",
    "for lag in range(0,8):\n",
    "    create_lags_with_gb(lag,[\"date\",\"city\"], agg)\n",
    "    \n",
    "\n",
    "agg = gb_util(all_data,[\"date\",\"city\",\"chw_genre_name\"],\"visitors\",\"city_genere_visitors\")\n",
    "print(\"lagging city_genere_visitors\")\n",
    "for lag in range(0,8):\n",
    "    create_lags_with_gb(lag,[\"date\",\"city\",\"chw_genre_name\"], agg)\n",
    "\n",
    "\n",
    "agg = gb_util(all_data,[\"date\",\"province\",\"chw_genre_name\"],\"visitors\",\"province_genere_visitors\")\n",
    "print(\"lagging province_genere_visitors\")\n",
    "for lag in range(0,8):\n",
    "    create_lags_with_gb(lag,[\"date\",\"province\",\"chw_genre_name\"], agg)"
   ]
  },
  {
   "cell_type": "code",
   "execution_count": 40,
   "metadata": {},
   "outputs": [],
   "source": [
    "all_data = create_lags_with_name(all_data,[\"holiday\"],1,[\"chw_store_id\",\"date\"],\"previous_day_holiday\")\n",
    "all_data = create_lags_with_name(all_data,[\"holiday\"],-1,[\"chw_store_id\",\"date\"],\"next_day_holiday\")\n",
    "all_data = create_lags_with_name(all_data,[\"holiday\"],2,[\"chw_store_id\",\"date\"],\"previous_day_holiday_2\")\n",
    "all_data = create_lags_with_name(all_data,[\"holiday\"],-2,[\"chw_store_id\",\"date\"],\"next_day_holiday_2\")"
   ]
  },
  {
   "cell_type": "code",
   "execution_count": 41,
   "metadata": {},
   "outputs": [],
   "source": [
    "df_temp = all_data.loc[all_data.groupby([\"chw_store_id\"])[\"visitors\"].idxmax()].copy()\n",
    "df_temp = df_temp[[\"chw_store_id\",\"month\",\"week\"]]\n",
    "df_temp.columns = [\"chw_store_id\", \"max_shop_visit_month\", \"max_shop_visit_week\"]\n",
    "all_data = all_data.merge(df_temp, on = \"chw_store_id\", how = \"left\")"
   ]
  },
  {
   "cell_type": "code",
   "execution_count": 42,
   "metadata": {},
   "outputs": [],
   "source": [
    "df_temp = all_data.loc[all_data.groupby([\"locality\"])[\"visitors\"].idxmax()].copy()\n",
    "df_temp = df_temp[[\"locality\",\"month\",\"week\"]]\n",
    "df_temp.columns = [\"locality\", \"max_local_visit_month\", \"max_local_visit_week\"]\n",
    "all_data = all_data.merge(df_temp, on = \"locality\", how = \"left\")"
   ]
  },
  {
   "cell_type": "code",
   "execution_count": 43,
   "metadata": {},
   "outputs": [],
   "source": [
    "df_temp = all_data.loc[all_data.groupby([\"chw_genre_name\"])[\"visitors\"].idxmax()].copy()\n",
    "df_temp = df_temp[[\"chw_genre_name\",\"month\",\"week\"]]\n",
    "df_temp.columns = [\"chw_genre_name\", \"max_genere_visit_month\", \"max_genere_visit_week\"]\n",
    "all_data = all_data.merge(df_temp, on = \"chw_genre_name\", how = \"left\")"
   ]
  },
  {
   "cell_type": "code",
   "execution_count": 44,
   "metadata": {},
   "outputs": [],
   "source": [
    "df_temp = all_data.loc[all_data.groupby([\"city\"])[\"visitors\"].idxmax()].copy()\n",
    "df_temp = df_temp[[\"city\",\"month\",\"week\"]]\n",
    "df_temp.columns = [\"city\", \"max_city_visit_month\", \"max_city_visit_week\"]\n",
    "all_data = all_data.merge(df_temp, on = \"city\", how = \"left\")"
   ]
  },
  {
   "cell_type": "code",
   "execution_count": 45,
   "metadata": {},
   "outputs": [],
   "source": [
    "df_temp = all_data.loc[all_data.groupby([\"city\",\"chw_genre_name\"])[\"visitors\"].idxmax()].copy()\n",
    "df_temp = df_temp[[\"city\",\"chw_genre_name\",\"month\",\"week\"]]\n",
    "df_temp.columns = [\"city\",\"chw_genre_name\", \"max_city_genre_visit_month\", \"max_city_genre_visit_week\"]\n",
    "all_data = all_data.merge(df_temp, on = [\"city\", \"chw_genre_name\"], how = \"left\")"
   ]
  },
  {
   "cell_type": "code",
   "execution_count": 46,
   "metadata": {},
   "outputs": [],
   "source": [
    "df_temp = all_data.loc[all_data.groupby([\"locality\",\"chw_genre_name\"])[\"visitors\"].idxmax()].copy()\n",
    "df_temp = df_temp[[\"locality\",\"chw_genre_name\",\"month\",\"week\"]]\n",
    "df_temp.columns = [\"locality\",\"chw_genre_name\", \"max_local_genre_visit_month\", \"max_local_genre_visit_week\"]\n",
    "all_data = all_data.merge(df_temp, on = [\"locality\", \"chw_genre_name\"], how = \"left\")"
   ]
  },
  {
   "cell_type": "code",
   "execution_count": 47,
   "metadata": {},
   "outputs": [],
   "source": [
    "label_encoder = LabelEncoder()\n",
    "label_encoder.fit(all_data[\"chw_store_id\"].values)\n",
    "all_data[\"le_id\"] = label_encoder.transform(all_data[\"chw_store_id\"])"
   ]
  },
  {
   "cell_type": "code",
   "execution_count": 48,
   "metadata": {},
   "outputs": [],
   "source": [
    "scale_features = [col for col in all_data.columns.values if not col in [\"chw_store_id\",\"visit_date\",\"le_id\"]]"
   ]
  },
  {
   "cell_type": "code",
   "execution_count": 49,
   "metadata": {},
   "outputs": [
    {
     "data": {
      "text/plain": [
       "['visitors',\n",
       " 'date',\n",
       " 'week_day',\n",
       " 'holiday',\n",
       " 'quarter',\n",
       " 'week_end',\n",
       " 'week',\n",
       " 'month',\n",
       " 'year',\n",
       " 'day',\n",
       " 'days',\n",
       " 'month_holiday_agg',\n",
       " 'month_week_holiday_agg',\n",
       " 'month_num',\n",
       " 'week_num',\n",
       " 'median',\n",
       " 'mean',\n",
       " 'chw_genre_name',\n",
       " 'latitude',\n",
       " 'longitude',\n",
       " 'province',\n",
       " 'city',\n",
       " 'locality',\n",
       " 'reservations',\n",
       " 'reserve_visitors',\n",
       " 'visitors_mean_past_30_2',\n",
       " 'visitors_median_past_30_2',\n",
       " 'visitors_mean_past_14_2',\n",
       " 'visitors_median_past_14_2',\n",
       " 'visitors_mean_mid_14_2',\n",
       " 'visitors_median_mid_14_2',\n",
       " 'visitors_mean_future_30',\n",
       " 'visitors_median_future_30',\n",
       " 'visitors_mean_fu_14',\n",
       " 'visitors_median_fu_14',\n",
       " 'visitors_mean_past_30',\n",
       " 'visitors_median_past_30',\n",
       " 'visitors_mean_past_14',\n",
       " 'visitors_median_past_14',\n",
       " 'visitors_mean_mid_14',\n",
       " 'visitors_median_mid_14',\n",
       " 'visitors_mean_fu_mid_14',\n",
       " 'visitors_median_fu_mid_14',\n",
       " 'visitors_lag_1',\n",
       " 'visitors_lag_2',\n",
       " 'visitors_lag_3',\n",
       " 'visitors_lag_4',\n",
       " 'visitors_lag_5',\n",
       " 'visitors_lag_6',\n",
       " 'visitors_lag_7',\n",
       " 'visitors_lag_8',\n",
       " 'visitors_lag_9',\n",
       " 'visitors_lag_10',\n",
       " 'visitors_lag_11',\n",
       " 'visitors_lag_12',\n",
       " 'visitors_lag_13',\n",
       " 'visitors_lag_14',\n",
       " 'visitors_lag_15',\n",
       " 'visitors_lag_16',\n",
       " 'visitors_lag_17',\n",
       " 'visitors_lag_18',\n",
       " 'visitors_lag_19',\n",
       " 'visitors_lag_20',\n",
       " 'visitors_lag_21',\n",
       " 'visitors_lag_22',\n",
       " 'visitors_lag_23',\n",
       " 'visitors_lag_24',\n",
       " 'visitors_lag_25',\n",
       " 'visitors_lag_26',\n",
       " 'visitors_lag_27',\n",
       " 'visitors_lag_28',\n",
       " 'visitors_lag_29',\n",
       " 'visitors_lag_-1',\n",
       " 'visitors_lag_-2',\n",
       " 'visitors_lag_-3',\n",
       " 'visitors_lag_-4',\n",
       " 'visitors_lag_-5',\n",
       " 'visitors_lag_-13',\n",
       " 'visitors_lag_-14',\n",
       " 'visitors_lag_-15',\n",
       " 'visitors_lag_-16',\n",
       " 'visitors_lag_-18',\n",
       " 'visitors_lag_-20',\n",
       " 'visitors_lag_-21',\n",
       " 'visitors_lag_-28',\n",
       " 'reservations_lag_1',\n",
       " 'reservations_lag_2',\n",
       " 'reservations_lag_3',\n",
       " 'reservations_lag_4',\n",
       " 'reservations_lag_5',\n",
       " 'reservations_lag_6',\n",
       " 'reservations_lag_7',\n",
       " 'reserve_visitors_lag_1',\n",
       " 'reserve_visitors_lag_2',\n",
       " 'reserve_visitors_lag_3',\n",
       " 'reserve_visitors_lag_4',\n",
       " 'reserve_visitors_lag_5',\n",
       " 'reserve_visitors_lag_6',\n",
       " 'reserve_visitors_lag_7',\n",
       " 'median_lag_2',\n",
       " 'median_lag_3',\n",
       " 'median_lag_4',\n",
       " 'median_lag_5',\n",
       " 'median_lag_7',\n",
       " 'median_lag_14',\n",
       " 'median_lag_21',\n",
       " 'median_lag_28',\n",
       " 'mean_lag_2',\n",
       " 'mean_lag_3',\n",
       " 'mean_lag_4',\n",
       " 'mean_lag_5',\n",
       " 'mean_lag_7',\n",
       " 'mean_lag_14',\n",
       " 'mean_lag_21',\n",
       " 'mean_lag_28',\n",
       " 'median_lag_-2',\n",
       " 'median_lag_-5',\n",
       " 'median_lag_-7',\n",
       " 'median_lag_-4',\n",
       " 'median_lag_-3',\n",
       " 'median_lag_-21',\n",
       " 'median_lag_-28',\n",
       " 'mean_lag_-2',\n",
       " 'mean_lag_-5',\n",
       " 'mean_lag_-7',\n",
       " 'mean_lag_-4',\n",
       " 'mean_lag_-3',\n",
       " 'mean_lag_-21',\n",
       " 'mean_lag_-28',\n",
       " 'local_visitors',\n",
       " 'local_visitors_lag_1',\n",
       " 'local_visitors_lag_2',\n",
       " 'local_visitors_lag_3',\n",
       " 'local_visitors_lag_4',\n",
       " 'local_visitors_lag_5',\n",
       " 'local_visitors_lag_6',\n",
       " 'local_visitors_lag_7',\n",
       " 'local_genere_visitors',\n",
       " 'local_genere_visitors_lag_1',\n",
       " 'local_genere_visitors_lag_2',\n",
       " 'local_genere_visitors_lag_3',\n",
       " 'local_genere_visitors_lag_4',\n",
       " 'local_genere_visitors_lag_5',\n",
       " 'local_genere_visitors_lag_6',\n",
       " 'local_genere_visitors_lag_7',\n",
       " 'genere_visitors',\n",
       " 'genere_visitors_lag_1',\n",
       " 'genere_visitors_lag_2',\n",
       " 'genere_visitors_lag_3',\n",
       " 'genere_visitors_lag_4',\n",
       " 'genere_visitors_lag_5',\n",
       " 'genere_visitors_lag_6',\n",
       " 'genere_visitors_lag_7',\n",
       " 'city_visitors',\n",
       " 'city_visitors_lag_1',\n",
       " 'city_visitors_lag_2',\n",
       " 'city_visitors_lag_3',\n",
       " 'city_visitors_lag_4',\n",
       " 'city_visitors_lag_5',\n",
       " 'city_visitors_lag_6',\n",
       " 'city_visitors_lag_7',\n",
       " 'city_genere_visitors',\n",
       " 'city_genere_visitors_lag_1',\n",
       " 'city_genere_visitors_lag_2',\n",
       " 'city_genere_visitors_lag_3',\n",
       " 'city_genere_visitors_lag_4',\n",
       " 'city_genere_visitors_lag_5',\n",
       " 'city_genere_visitors_lag_6',\n",
       " 'city_genere_visitors_lag_7',\n",
       " 'province_genere_visitors',\n",
       " 'province_genere_visitors_lag_1',\n",
       " 'province_genere_visitors_lag_2',\n",
       " 'province_genere_visitors_lag_3',\n",
       " 'province_genere_visitors_lag_4',\n",
       " 'province_genere_visitors_lag_5',\n",
       " 'province_genere_visitors_lag_6',\n",
       " 'province_genere_visitors_lag_7',\n",
       " 'previous_day_holiday',\n",
       " 'next_day_holiday',\n",
       " 'previous_day_holiday_2',\n",
       " 'next_day_holiday_2',\n",
       " 'max_shop_visit_month',\n",
       " 'max_shop_visit_week',\n",
       " 'max_local_visit_month',\n",
       " 'max_local_visit_week',\n",
       " 'max_genere_visit_month',\n",
       " 'max_genere_visit_week',\n",
       " 'max_city_visit_month',\n",
       " 'max_city_visit_week',\n",
       " 'max_city_genre_visit_month',\n",
       " 'max_city_genre_visit_week',\n",
       " 'max_local_genre_visit_month',\n",
       " 'max_local_genre_visit_week']"
      ]
     },
     "execution_count": 49,
     "metadata": {},
     "output_type": "execute_result"
    }
   ],
   "source": [
    "scale_features"
   ]
  },
  {
   "cell_type": "code",
   "execution_count": 50,
   "metadata": {},
   "outputs": [],
   "source": [
    "df = all_data.copy()"
   ]
  },
  {
   "cell_type": "code",
   "execution_count": 51,
   "metadata": {},
   "outputs": [],
   "source": [
    "df = df.join(local_series)"
   ]
  },
  {
   "cell_type": "code",
   "execution_count": 52,
   "metadata": {},
   "outputs": [],
   "source": [
    "df = df.join(city_series)\n",
    "df = df.join(province_series)\n",
    "df = df.join(genre_series)"
   ]
  },
  {
   "cell_type": "code",
   "execution_count": 53,
   "metadata": {},
   "outputs": [],
   "source": [
    "df.to_csv(\"train_data.csv\", index = False)"
   ]
  }
 ],
 "metadata": {
  "kernelspec": {
   "display_name": "Python 3",
   "language": "python",
   "name": "python3"
  },
  "language_info": {
   "codemirror_mode": {
    "name": "ipython",
    "version": 3
   },
   "file_extension": ".py",
   "mimetype": "text/x-python",
   "name": "python",
   "nbconvert_exporter": "python",
   "pygments_lexer": "ipython3",
   "version": "3.8.10"
  }
 },
 "nbformat": 4,
 "nbformat_minor": 5
}
